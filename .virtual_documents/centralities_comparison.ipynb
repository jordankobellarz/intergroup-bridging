get_ipython().run_line_magic("matplotlib", " inline ")

import matplotlib.pyplot as plt
import seaborn as sns

from core import *


import math

def plot_network(G, color_attr, color_attr_map, size_attr=None, node_base_size=500, font_size=10, spring_layout_k=None, hide_label_threshould=0.0):

    color_map = [color_attr_map[G.nodes[node][color_attr]] for node in G.nodes]

    # generate nodes' label
    if size_attr:
        sizes = [node_base_size+2000*G.nodes[node][size_attr] for node in G.nodes]
        labels = []
        for node in G.nodes:
            size = round(G.nodes[node][size_attr], 1)
            if size >= hide_label_threshould:
                label = str(node) + '\n' + str(size)
            else:
                label = str('')
            labels.append(label)
    else:
        sizes = [node_base_size] * len(G.nodes)
        labels = list(G.nodes)
    labels = dict(zip(G.nodes, labels))

    # generate nodes' positions
    pos = nx.spring_layout(G, k=spring_layout_k, seed=100)
    
    plt.figure(figsize=(10, 5))
    ax = plt.gca()
    ax.set_title(size_attr)
    nx.draw(G, pos=pos, with_labels=True, node_color=color_map, node_size=sizes, labels=labels, linewidths=10, width=1, font_color='white', font_size=font_size, ax=ax)
    plt.show()
    
def centralities_bar_plot(df, width=10):
    # plot centrality values comparison
    df = df.sort_values('intergroup_bridging', ascending=True)
    df2 = df[['label', 'betweenness', 'bridgeness', 'intergroup_bridging']].copy()
    df2 = df2.melt(id_vars=['label'], var_name='centrality', value_name='value')

    sns.set_palette('tab10')
    plt.figure(figsize=(width, 5))
    ax = sns.barplot(data=df2, x='label', y='value', hue='centrality')


# Node's colors
orientation_to_color = {
    'L': 'red',
    'R': 'blue',
    'N': 'gray'
}


# Equal Jensen et. al 
G = nx.Graph()

G.add_node('A', orientation='N', label='A')
G.add_node('B', orientation='N', label='B')

G.add_node('B1', orientation='L', label='B1')
G.add_node('B2', orientation='L', label='B2')
G.add_node('B3', orientation='L', label='B3')
G.add_node('B4', orientation='L', label='B4')

G.add_node('C', orientation='R', label='C')
G.add_node('C1', orientation='R', label='C1')
G.add_node('C2', orientation='R', label='C2')
G.add_node('C3', orientation='R', label='C3')
G.add_node('C4', orientation='R', label='C4')

G.add_edge('A', 'B')
G.add_edge('A', 'C')

G.add_edge('B', 'B1')
G.add_edge('B', 'B3')
G.add_edge('B', 'B4')
G.add_edge('B1', 'B2')
G.add_edge('B1', 'B3')
G.add_edge('B2', 'B3')

G.add_edge('C', 'C1')
G.add_edge('C', 'C2')
G.add_edge('C', 'C3')
G.add_edge('C2', 'C4')
G.add_edge('C2', 'C3')


plot_network(G, 'orientation', orientation_to_color, node_base_size=1000, spring_layout_k=0.4)


# calculate centralities
extract_betweenness(G)
extract_bridgeness(G)
extract_intergroup_bridging(G, 'orientation')
extract_degrees(G)

nx.write_graphml_lxml(G, 'data/syntethic.graphml')  


# get centrality values as a dataframe
df = graph_to_dataframe(G)
df.sort_values('label', ascending=True).round(2)


centralities_bar_plot(df)


for centrality in ['betweenness', 'bridgeness', 'intergroup_bridging']:
    plot_network(G, color_attr='orientation', color_attr_map=orientation_to_color, size_attr=centrality, node_base_size=1000, spring_layout_k=0.4)


orientations_palette = sns.set_palette(sns.color_palette(['#FF000C', '#272727', '#0F00F9'])) # Red, Grey, Blue 

fig, axs = plt.subplots(nrows=1, ncols=2, sharey=False, sharex=False, figsize=(6, 2.5))
fig.tight_layout() 

for i, metric in enumerate(['betweenness', 'bridgeness']):

    sns.scatterplot(data=df, x='intergroup_bridging', y=metric, hue='orientation', hue_order=['L', 'N', 'R'], 
                    size='degree', sizes=(10, 200), alpha=.5, legend="full", palette=orientations_palette, ax=axs[i])
    axs[i].legend([],[], frameon=False)
    axs[i].set_xlabel('Intergroup bridging')
    axs[i].set_ylabel(metric.capitalize())
    axs[i].set_box_aspect(1)
    axs[i].plot([0,1], [0, 1], ls='--', c='.8')

# add a single legend for the whole plot
handles, labels = axs[0].get_legend_handles_labels()
fig.legend(handles, labels, loc='upper center', bbox_to_anchor=(0.5, 1.15), ncol=11, fancybox=True, shadow=False, )

# add a single label for x-axis
#fig.text(0.5, -0.01, 'Bubble Popper', ha='center')

fig.savefig('figures/fig_centralities_comparison_scatterplot.png', format='png', dpi=300, bbox_inches='tight', )


# Node's colors
club_to_color = {
    'Mr. Hi': 'red',
    'Officer': 'blue',
    'Bubble Reacher': 'gray'
}


G = nx.karate_club_graph()


plot_network(G, 'club', club_to_color, node_base_size=200, spring_layout_k=0.5, font_size=9)


print("Node \tDegree \tClub")
for v in G:
    print(f"{v:4} \t{G.degree(v):6} \t{G.nodes[v]['club']}")


# Add an A node linked to B and C (the effective Bubble Reacher)
G.add_node('A', club='Bubble Reacher')

# Link to Mr. Hi highest degree nodes
G.add_edge('A', 0) 
G.add_edge('A', 2)
G.add_edge('A', 1) 

# Link to Officer highest degree nodes
G.add_edge('A', 33) 
G.add_edge('A', 32) 
G.add_edge('A', 31)


# calculate centralities
extract_betweenness(G)
extract_bridgeness(G)
extract_intergroup_bridging(G, attr='club')

nx.write_graphml_lxml(G, 'data/karate-club.graphml')  


df = graph_to_dataframe(G)


df['label'] = df.index
centralities_bar_plot(df, width=20)


for centrality in ['betweenness', 'bridgeness', 'intergroup_bridging']:
    plot_network(G, color_attr='club', color_attr_map=club_to_color, size_attr=centrality, node_base_size=150, spring_layout_k=0.5, font_size=9, hide_label_threshould=0.1)
